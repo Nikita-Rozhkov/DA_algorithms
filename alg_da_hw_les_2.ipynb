{
  "nbformat": 4,
  "nbformat_minor": 0,
  "metadata": {
    "colab": {
      "name": "alg_da_hw_les_2.ipynb",
      "provenance": []
    },
    "kernelspec": {
      "name": "python3",
      "display_name": "Python 3"
    },
    "language_info": {
      "name": "python"
    }
  },
  "cells": [
    {
      "cell_type": "code",
      "metadata": {
        "id": "Wq2YGSjImHSV"
      },
      "source": [
        "import numpy as np\n",
        "from sklearn import datasets\n",
        "import matplotlib.pyplot as plt\n",
        "\n",
        "%matplotlib inline"
      ],
      "execution_count": 55,
      "outputs": []
    },
    {
      "cell_type": "markdown",
      "metadata": {
        "id": "D2LUiAVJljZ3"
      },
      "source": [
        "# **Домашнее задание к уроку 2**"
      ]
    },
    {
      "cell_type": "markdown",
      "metadata": {
        "id": "r8Ates2DlsZA"
      },
      "source": [
        "### Задание 1"
      ]
    },
    {
      "cell_type": "markdown",
      "metadata": {
        "id": "ZPt0ITQ3mBVK"
      },
      "source": [
        "Сгенерировать датасет при помощи sklearn.datasets.make_regression и обучить линейную модель при помощи градиентного и стохастического градиентного спуска. Нанести среднеквадратичную ошибку для обоих методов на один график, сделать выводы о разнице скорости сходимости каждого из методов."
      ]
    },
    {
      "cell_type": "code",
      "metadata": {
        "id": "66paDUrPmT8o"
      },
      "source": [
        "# Геренация датасета\n",
        "data, target, coef = datasets.make_regression(n_samples=10000, n_features = 4, n_informative = 4, n_targets = 1, \n",
        "                                              noise = 5, coef = True, random_state = 2)"
      ],
      "execution_count": 56,
      "outputs": []
    },
    {
      "cell_type": "code",
      "metadata": {
        "id": "TdMCEv5OmukC"
      },
      "source": [
        "# Функция среднеквадратичной ошибки\n",
        "def calc_mse(y, y_pred):\n",
        "    err = np.mean((y - y_pred) ** 2)\n",
        "    return err"
      ],
      "execution_count": 57,
      "outputs": []
    },
    {
      "cell_type": "code",
      "metadata": {
        "id": "nVUS_VnnAO8O"
      },
      "source": [
        "# Функция градиентного спуска\n",
        "def grad_desc(X, y, iterations, alpha):\n",
        "    \n",
        "    np.random.seed(42)\n",
        "    W = np.random.randn(X.shape[1])\n",
        "    w_list = [W.copy()]\n",
        "    errors = []\n",
        "    n = X.shape[0]\n",
        "    \n",
        "    for i in range(iterations):\n",
        "        y_pred = np.dot(X, W)\n",
        "        err = calc_mse(y, y_pred)\n",
        "\n",
        "        old_W = W.copy()\n",
        "        W -= (alpha * (1/n * 2 * X.T @ (y_pred - y)))\n",
        "\n",
        "        w_list.append(W.copy())\n",
        "        errors.append(err)\n",
        "\n",
        "        if i % 100 == 0:\n",
        "            print(i, W, err)\n",
        "\n",
        "        if np.linalg.norm(W - old_W, ord=2) < 1e-6:\n",
        "            y_pred = np.dot(X, W)\n",
        "            err = calc_mse(y, y_pred)\n",
        "            errors.append(err)\n",
        "            print(i, W, err)\n",
        "            break\n",
        "        \n",
        "    w_list = np.array(w_list)\n",
        "    \n",
        "    return y_pred, W, w_list, errors"
      ],
      "execution_count": 58,
      "outputs": []
    },
    {
      "cell_type": "code",
      "metadata": {
        "id": "DtbXD2qiBOOl"
      },
      "source": [
        "# Функция стохастического градиентного спуска\n",
        "def sgd(X, y, iterations, qty_in_batch=1, alpha=1e-4):\n",
        "    np.random.seed(42)\n",
        "    W = np.random.randn(X.shape[1])\n",
        "    w_list = [W.copy()]\n",
        "    errors = []\n",
        "    n = X.shape[0]\n",
        "    n_batch = n // qty_in_batch\n",
        "    if n % qty_in_batch != 0:\n",
        "        n_batch += 1\n",
        "    for i in range(1, iterations+1):\n",
        "        for b in range(n_batch):\n",
        "            start_ = qty_in_batch*b\n",
        "            end_ = qty_in_batch*(b+1)\n",
        "\n",
        "            X_tmp = X[start_ : end_, :]\n",
        "            y_tmp = y[start_ : end_]\n",
        "            y_pred_tmp = np.dot(X_tmp, W)\n",
        "            err = calc_mse(y_tmp, y_pred_tmp)\n",
        "            W -= (alpha * (1/n * 2 * np.dot(X_tmp.T, (y_pred_tmp - y_tmp))))\n",
        "            \n",
        "            w_list.append(W.copy())\n",
        "            errors.append(err)\n",
        "\n",
        "        if i % (iterations / 10) == 0:\n",
        "            print(i, W, err)\n",
        "        \n",
        "        if i == iterations:\n",
        "            y_pred_tmp = np.dot(X_tmp, W)\n",
        "            errors.append(calc_mse(y_tmp, y_pred_tmp))\n",
        "            print(i, W, err)\n",
        "    \n",
        "    w_list = np.array(w_list)\n",
        "    \n",
        "    return y_pred_tmp, W, w_list, errors"
      ],
      "execution_count": 59,
      "outputs": []
    },
    {
      "cell_type": "code",
      "metadata": {
        "colab": {
          "base_uri": "https://localhost:8080/"
        },
        "id": "0AkY5K0GB69r",
        "outputId": "fad368ef-4976-4dcb-f8ce-8caee40cbf32"
      },
      "source": [
        "alpha = 1e-1\n",
        "y_pred1, W1, w_list1, errors1 = grad_desc(data, target, 1000, alpha)"
      ],
      "execution_count": 60,
      "outputs": [
        {
          "output_type": "stream",
          "name": "stdout",
          "text": [
            "0 [ 1.00462007  7.14933914 11.18665826 16.68553148] 9843.498221175114\n",
            "76 [ 3.73803295 35.63089806 52.35250162 77.79640507] 24.85594528606602\n"
          ]
        }
      ]
    },
    {
      "cell_type": "code",
      "metadata": {
        "colab": {
          "base_uri": "https://localhost:8080/"
        },
        "id": "3xLgGtGGCB_B",
        "outputId": "40d74646-f19c-429d-ac6a-b847cbd0caba"
      },
      "source": [
        "y_pred2, W2, w_list2, errors2 = sgd(data, target, 100, alpha=1e-1)"
      ],
      "execution_count": 61,
      "outputs": [
        {
          "output_type": "stream",
          "name": "stdout",
          "text": [
            "10 [ 3.11520688 30.96292138 45.617322   67.34850649] 219.19593749712905\n",
            "20 [ 3.6300835  35.01922447 51.47726889 76.36204765] 0.6755167950147597\n",
            "30 [ 3.71996596 35.54894963 52.24233209 77.59540416] 1.1056063654736374\n",
            "40 [ 3.73467371 35.61821635 52.34240832 77.76406066] 1.6969835094030288\n",
            "50 [ 3.73698453 35.62728489 52.35552404 77.78711036] 1.7859552433212016\n",
            "60 [ 3.73733762 35.62847359 52.3572462  77.79025882] 1.798078461589774\n",
            "70 [ 3.73739049 35.62862959 52.35747276 77.79068868] 1.7997111161672266\n",
            "80 [ 3.73739829 35.62865008 52.35750262 77.79074735] 1.7999307787604322\n",
            "90 [ 3.73739943 35.62865278 52.35750656 77.79075535] 1.7999603458232867\n",
            "100 [ 3.73739959 35.62865313 52.35750708 77.79075644] 1.7999643279563282\n",
            "100 [ 3.73739959 35.62865313 52.35750708 77.79075644] 1.7999643279563282\n"
          ]
        }
      ]
    },
    {
      "cell_type": "code",
      "metadata": {
        "colab": {
          "base_uri": "https://localhost:8080/",
          "height": 295
        },
        "id": "3NwYgOfGaC1C",
        "outputId": "17c99023-7e84-47c6-d703-6d661b6a8b30"
      },
      "source": [
        "plt.scatter(range(len(errors2)), errors2, label='sgd')\n",
        "plt.scatter(np.arange(0,len(errors1)*data.shape[0],data.shape[0]), errors1, label='grad_desc')\n",
        "plt.title('MSE')\n",
        "plt.xlabel('Iteration number')\n",
        "plt.ylabel('MSE')\n",
        "plt.legend()\n",
        "plt.show()"
      ],
      "execution_count": 62,
      "outputs": [
        {
          "output_type": "display_data",
          "data": {
            "image/png": "[encoded data removed]",
            "text/plain": [
              "<Figure size 432x288 with 1 Axes>"
            ]
          },
          "metadata": {
            "needs_background": "light"
          }
        }
      ]
    },
    {
      "cell_type": "markdown",
      "metadata": {
        "id": "J_vFO9bWDF5v"
      },
      "source": [
        "**Вывод:** Из графика видно, что скорость сходимости градиентного спуска выше, чем скорость сходимости стохастического градиентного спуска.\n",
        "\n"
      ]
    },
    {
      "cell_type": "markdown",
      "metadata": {
        "id": "oDZSgASIEkT_"
      },
      "source": [
        "### Задание 2"
      ]
    },
    {
      "cell_type": "markdown",
      "metadata": {
        "id": "d7s5gDJGEr3y"
      },
      "source": [
        "Модифицировать решение первого задания путем добавления 𝐿2 -регуляризации (в функцию, считающую MSE, нужно добавить норму вектора весов) и сравнить результаты."
      ]
    },
    {
      "cell_type": "code",
      "metadata": {
        "id": "SPXOBuOWFhfZ"
      },
      "source": [
        "# Функция градиентного спуска с L2 регуляризацией\n",
        "def grad_l2(X, y, iterations, lambd, alpha):\n",
        "    \n",
        "    np.random.seed(42)\n",
        "    W = np.random.randn(X.shape[1])\n",
        "    w_list = [W.copy()]\n",
        "    errors = []\n",
        "    n = X.shape[0]\n",
        "    \n",
        "    for i in range(iterations):\n",
        "        y_pred = np.dot(X, W)\n",
        "        err = calc_mse(y, y_pred)\n",
        "\n",
        "        old_W = W.copy()\n",
        "        W -= (alpha * (1/n * 2 * X.T @ (y_pred - y) + 2 * lambd * W)) # градиент функции потерь после добавления L2 регуляризации\n",
        "\n",
        "        w_list.append(W.copy())\n",
        "        errors.append(err)\n",
        "\n",
        "        if np.linalg.norm(W - old_W, ord=2) < 1e-6:\n",
        "            y_pred = np.dot(X, W)\n",
        "            err = calc_mse(y, y_pred)\n",
        "            errors.append(err)\n",
        "            print(i, W, err)\n",
        "            break\n",
        "        \n",
        "    w_list = np.array(w_list)\n",
        "    \n",
        "    return y_pred, W, w_list, errors"
      ],
      "execution_count": 63,
      "outputs": []
    },
    {
      "cell_type": "code",
      "metadata": {
        "colab": {
          "base_uri": "https://localhost:8080/",
          "height": 348
        },
        "id": "SZ8ZBR-6i4fk",
        "outputId": "c62eb504-4694-480f-a644-a206d4631e67"
      },
      "source": [
        "# Графики среднеквадратичной ошибки для различных значений коэффициента lambda после приминения функции градиентного спуска с L2 регуляризацией\n",
        "y_pred3, W3, w_list3, errors3 = grad_l2(data, target, 10000, alpha=1e-1, lambd=0.01)\n",
        "y_pred4, W4, w_list4, errors4 = grad_l2(data, target, 10000, alpha=1e-1, lambd=0.05)\n",
        "y_pred5, W5, w_list5, errors5 = grad_l2(data, target, 10000, alpha=1e-1, lambd=0.08)\n",
        "plt.scatter(range(len(errors3)), errors3, label = 'lambd=0.01' )\n",
        "plt.scatter(range(len(errors4)), errors4, label = 'lambd=0.05')\n",
        "plt.scatter(range(len(errors5)), errors5, label = 'lambd=0.08')\n",
        "plt.title('MSE (gradient descent L2)')\n",
        "plt.xlim([0, 60])\n",
        "plt.ylim([0, 600])\n",
        "plt.legend()\n",
        "plt.xlabel('Iteration number')\n",
        "plt.ylabel('MSE')\n",
        "plt.show()"
      ],
      "execution_count": 64,
      "outputs": [
        {
          "output_type": "stream",
          "name": "stdout",
          "text": [
            "75 [ 3.69442679 35.28448195 51.84339314 77.0216984 ] 25.840425365591173\n",
            "72 [ 3.52947612 33.96367355 49.90230986 74.07123127] 47.633956349681895\n",
            "69 [ 3.41488829 33.03620394 48.53931665 72.00255935] 79.98267461318626\n"
          ]
        },
        {
          "output_type": "display_data",
          "data": {
            "image/png": "[encoded data removed]",
            "text/plain": [
              "<Figure size 432x288 with 1 Axes>"
            ]
          },
          "metadata": {
            "needs_background": "light"
          }
        }
      ]
    },
    {
      "cell_type": "markdown",
      "metadata": {
        "id": "gCmX2O0andkW"
      },
      "source": [
        "**Вывод**: График показывает, что при увеличении коэффициента $\\lambda$ модель сильнее штрафует за большие веса, поэтому среднеквадратичная ошибка увеличивается и её минимум труднодостижим."
      ]
    },
    {
      "cell_type": "code",
      "metadata": {
        "id": "d0HtpECbo_2V"
      },
      "source": [
        "# Функция стохастического градиентного спуска с L2 регуляризацией\n",
        "def sgd_l2(X, y, iterations, lambd, qty_in_batch=1, alpha=1e-1):\n",
        "    np.random.seed(42)\n",
        "    W = np.random.randn(X.shape[1])\n",
        "    w_list = [W.copy()]\n",
        "    errors = []\n",
        "    n = X.shape[0]\n",
        "    n_batch = n // qty_in_batch\n",
        "    if n % qty_in_batch != 0:\n",
        "        n_batch += 1\n",
        "    for i in range(1, iterations+1):\n",
        "        for b in range(n_batch):\n",
        "            start_ = qty_in_batch*b\n",
        "            end_ = qty_in_batch*(b+1)\n",
        "\n",
        "            X_tmp = X[start_ : end_, :]\n",
        "            y_tmp = y[start_ : end_]\n",
        "            y_pred_tmp = np.dot(X_tmp, W)\n",
        "            err = calc_mse(y_tmp, y_pred_tmp)\n",
        "            W -= (alpha * (1/n * 2 * np.dot(X_tmp.T, (y_pred_tmp - y_tmp)) + 2 * lambd * W)) # градиент функции потерь после добавления L2 регуляризации\n",
        "            \n",
        "        w_list.append(W.copy())\n",
        "        errors.append(err)\n",
        "\n",
        "        if i == iterations:\n",
        "            y_pred_tmp = np.dot(X_tmp, W)\n",
        "            errors.append(calc_mse(y_tmp, y_pred_tmp))\n",
        "            print(i, W, err)\n",
        "            break\n",
        "    \n",
        "    w_list = np.array(w_list)\n",
        "    \n",
        "    return y_pred_tmp, W, w_list, errors"
      ],
      "execution_count": 65,
      "outputs": []
    },
    {
      "cell_type": "code",
      "metadata": {
        "colab": {
          "base_uri": "https://localhost:8080/",
          "height": 348
        },
        "id": "j5PJFvp7pjwX",
        "outputId": "1a54ea1e-728b-4c17-cabd-677cc2e9cc73"
      },
      "source": [
        "# Графики среднеквадратичной ошибки для различных значений коэффициента lambda после приминения функции стохастического градиентного спуска с L2 регуляризацией\n",
        "y_pred6, W6, w_list6, errors6 = sgd_l2(data, target, 20, lambd=1e-5)\n",
        "y_pred7, W7, w_list7, errors7 = sgd_l2(data, target, 20, lambd=3e-5)\n",
        "y_pred8, W8, w_list8, errors8 = sgd_l2(data, target, 20, lambd=5e-5)\n",
        "plt.scatter(range(len(errors6)), errors6, label = 'lambd=1e-5' )\n",
        "plt.scatter(range(len(errors7)), errors7, label = 'lambd=3e-5')\n",
        "plt.scatter(range(len(errors8)), errors8, label = 'lambd=5e-5')\n",
        "plt.title('MSE (sgd L2)')\n",
        "plt.xlim([0, 20])\n",
        "plt.ylim([0, 10000])\n",
        "plt.legend()\n",
        "plt.xlabel('Iteration number')\n",
        "plt.ylabel('MSE')\n",
        "plt.show()"
      ],
      "execution_count": 66,
      "outputs": [
        {
          "output_type": "stream",
          "name": "stdout",
          "text": [
            "20 [ 3.27703595 32.07648074 47.13894364 69.80146395] 121.90073019206586\n",
            "20 [ 2.72944406 27.39383272 40.23860475 59.40028618] 743.5199993188971\n",
            "20 [ 2.32935479 23.86164754 35.03581222 51.58911051] 1558.4361590315025\n"
          ]
        },
        {
          "output_type": "display_data",
          "data": {
            "image/png": "[encoded data removed]",
            "text/plain": [
              "<Figure size 432x288 with 1 Axes>"
            ]
          },
          "metadata": {
            "needs_background": "light"
          }
        }
      ]
    },
    {
      "cell_type": "markdown",
      "metadata": {
        "id": "dqrajmu9u_Tp"
      },
      "source": [
        "**Вывод**: График показывает, что при увеличении коэффициента $\\lambda$ модель сильнее штрафует за большие веса, поэтому среднеквадратичная ошибка увеличивается и её минимум труднодостижим. В случае стохастического градиентного спуска модель штрафует за большие веса гораздо сильнее, чем в случае обычного."
      ]
    }
  ]
}