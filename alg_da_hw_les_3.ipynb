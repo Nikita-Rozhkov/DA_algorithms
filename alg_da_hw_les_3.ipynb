{
  "nbformat": 4,
  "nbformat_minor": 0,
  "metadata": {
    "colab": {
      "name": "alg_da_hw_les_3.ipynb",
      "provenance": []
    },
    "kernelspec": {
      "name": "python3",
      "display_name": "Python 3"
    },
    "language_info": {
      "name": "python"
    }
  },
  "cells": [
    {
      "cell_type": "code",
      "metadata": {
        "id": "Wq2YGSjImHSV"
      },
      "source": [
        "import numpy as np\n",
        "import matplotlib.pyplot as plt\n",
        "import pandas as pd\n",
        "import warnings\n",
        "warnings.filterwarnings('ignore')\n",
        "\n",
        "%matplotlib inline"
      ],
      "execution_count": 45,
      "outputs": []
    },
    {
      "cell_type": "markdown",
      "metadata": {
        "id": "D2LUiAVJljZ3"
      },
      "source": [
        "# **Домашнее задание к уроку 3**"
      ]
    },
    {
      "cell_type": "markdown",
      "metadata": {
        "id": "r8Ates2DlsZA"
      },
      "source": [
        "### Задание 1*"
      ]
    },
    {
      "cell_type": "markdown",
      "metadata": {
        "id": "ZPt0ITQ3mBVK"
      },
      "source": [
        "Измените функцию calc_logloss так, чтобы нули по возможности не попадали в np.log. "
      ]
    },
    {
      "cell_type": "code",
      "metadata": {
        "id": "66paDUrPmT8o"
      },
      "source": [
        "# Признаки\n",
        "X = np.array([[1, 1, 1, 1, 1, 1, 1, 1, 1, 1],\n",
        "              [1, 1, 2, 1, 3, 0, 5, 10, 1, 2],\n",
        "              [500, 700, 750, 600, 1450,\n",
        "              800, 1500, 2000, 450, 1000], \n",
        "              [1, 1, 2, 1, 2, 1, 3, 3, 1, 2]], dtype=np.float64)\n"
      ],
      "execution_count": 46,
      "outputs": []
    },
    {
      "cell_type": "code",
      "metadata": {
        "id": "ECfIlt6yTjrO"
      },
      "source": [
        "# Целевая переменная\n",
        "y = np.array([0, 0, 1, 0, 1, 0, 1, 0, 1, 1], dtype=np.float64)"
      ],
      "execution_count": 47,
      "outputs": []
    },
    {
      "cell_type": "code",
      "metadata": {
        "id": "W2onPHpeUOCu"
      },
      "source": [
        "# Добавим в функцию малую константу limit для ограничения значений y_pred\n",
        "def calc_logloss(y, y_pred):\n",
        "    limit = 1e-15\n",
        "    y_pred = pd.Series(y_pred)\n",
        "    y_pred[y_pred < limit] = limit\n",
        "    y_pred[y_pred > 1 - limit] = 1 - limit\n",
        "    y_pred = np.array(y_pred)\n",
        "\n",
        "    err = - np.mean(y * np.log(y_pred) + (1.0 - y) * np.log(1.0 - y_pred))\n",
        "    return err"
      ],
      "execution_count": 48,
      "outputs": []
    },
    {
      "cell_type": "markdown",
      "metadata": {
        "id": "oDZSgASIEkT_"
      },
      "source": [
        "### Задание 2"
      ]
    },
    {
      "cell_type": "markdown",
      "metadata": {
        "id": "d7s5gDJGEr3y"
      },
      "source": [
        "Подберите аргументы функции eval_model для логистической регрессии таким образом, чтобы log loss был минимальным."
      ]
    },
    {
      "cell_type": "code",
      "metadata": {
        "id": "nVUS_VnnAO8O"
      },
      "source": [
        "# Функция для сигмоиды\n",
        "def sigmoid(x):\n",
        "    return  1/(1+np.exp(-x))"
      ],
      "execution_count": 49,
      "outputs": []
    },
    {
      "cell_type": "code",
      "metadata": {
        "id": "TdMCEv5OmukC"
      },
      "source": [
        "# Функция для модели логистической регрессии\n",
        "def eval_model(X, y, iterations, alpha=1e-4):\n",
        "    \n",
        "    np.random.seed(42)\n",
        "    W = np.random.randn(X.shape[0])\n",
        "    n = X.shape[1]\n",
        "    w_list = [W.copy()]\n",
        "    errors = []\n",
        "    \n",
        "    for i in range(1, iterations+1):\n",
        "        z = np.dot(W, X)\n",
        "        y_pred = sigmoid(z)\n",
        "        err = calc_logloss(y, y_pred)\n",
        "        \n",
        "        old_W = W.copy()\n",
        "        W -= alpha * (1/n * np.dot((y_pred - y), X.T))\n",
        "        \n",
        "        w_list.append(W.copy())\n",
        "        errors.append(err)\n",
        "        \n",
        "        if i % (iterations / 10) == 0:\n",
        "            print(i, W, err)\n",
        "            \n",
        "        if np.linalg.norm(W - old_W, ord=2) < 1e-3:\n",
        "            z = np.dot(W, X)\n",
        "            y_pred = sigmoid(z)\n",
        "            err = calc_logloss(y, y_pred)\n",
        "            errors.append(err)\n",
        "            print(i, W, err)\n",
        "            break\n",
        "            \n",
        "    w_list = np.array(w_list)\n",
        "    \n",
        "    return W, w_list, errors"
      ],
      "execution_count": 50,
      "outputs": []
    },
    {
      "cell_type": "code",
      "metadata": {
        "id": "DtbXD2qiBOOl"
      },
      "source": [
        "def calc_std_feat(x):\n",
        "    res = (x - x.mean()) / x.std()\n",
        "    return res"
      ],
      "execution_count": 51,
      "outputs": []
    },
    {
      "cell_type": "code",
      "metadata": {
        "colab": {
          "base_uri": "https://localhost:8080/"
        },
        "id": "0AkY5K0GB69r",
        "outputId": "49f5316c-ae3c-4b1e-d7b3-57c3f66f74dd"
      },
      "source": [
        "X_st = X.copy()\n",
        "X_st[2, :] = calc_std_feat(X_st[2, :])\n",
        "X_st"
      ],
      "execution_count": 52,
      "outputs": [
        {
          "output_type": "execute_result",
          "data": {
            "text/plain": [
              "array([[ 1.        ,  1.        ,  1.        ,  1.        ,  1.        ,\n",
              "         1.        ,  1.        ,  1.        ,  1.        ,  1.        ],\n",
              "       [ 1.        ,  1.        ,  2.        ,  1.        ,  3.        ,\n",
              "         0.        ,  5.        , 10.        ,  1.        ,  2.        ],\n",
              "       [-0.97958969, -0.56713087, -0.46401617, -0.77336028,  0.97958969,\n",
              "        -0.36090146,  1.08270439,  2.11385144, -1.08270439,  0.05155735],\n",
              "       [ 1.        ,  1.        ,  2.        ,  1.        ,  2.        ,\n",
              "         1.        ,  3.        ,  3.        ,  1.        ,  2.        ]])"
            ]
          },
          "metadata": {},
          "execution_count": 52
        }
      ]
    },
    {
      "cell_type": "code",
      "metadata": {
        "id": "Slg-23VpYjZA"
      },
      "source": [
        "# Предсказанные значения\n",
        "y_pred = [0.1, 0.7, 0.85, 0, 0.9, 0.67, 0.15, 0.25, 0.6, 0.4]"
      ],
      "execution_count": 53,
      "outputs": []
    },
    {
      "cell_type": "code",
      "metadata": {
        "colab": {
          "base_uri": "https://localhost:8080/"
        },
        "id": "3xLgGtGGCB_B",
        "outputId": "c6046b96-387d-40d0-e511-cbcbea1a01ef"
      },
      "source": [
        "alpha = 0.5\n",
        "W, w_list, errors = eval_model(X_st, y, 30000, alpha)"
      ],
      "execution_count": 54,
      "outputs": [
        {
          "output_type": "stream",
          "name": "stdout",
          "text": [
            "3000 [-13.9452139   -1.673896    -3.20793787  11.64783166] 0.22733574187276795\n",
            "6000 [-20.12251585  -2.20572082  -5.06399074  16.65680198] 0.18224925407755652\n",
            "9000 [-24.75120926  -2.61226846  -6.42565532  20.41022448] 0.15709608251813184\n",
            "12000 [-28.46628442  -2.94037977  -7.50619849  23.41754634] 0.1409623390833617\n",
            "15000 [-31.58124983  -3.21545009  -8.40617794  25.93371632] 0.12965759007092087\n",
            "18000 [-34.27538573  -3.45253656  -9.18157943  28.10488195] 0.1212246774064343\n",
            "20730 [-36.45578216  -3.6433829   -9.80789023  29.85789089] 0.11516863770270366\n"
          ]
        }
      ]
    },
    {
      "cell_type": "code",
      "metadata": {
        "colab": {
          "base_uri": "https://localhost:8080/"
        },
        "id": "uNXGaNY9Z6yy",
        "outputId": "ff96c965-b64e-4835-d640-d2d9a4201bcd"
      },
      "source": [
        "alpha = 10\n",
        "W, w_list, errors = eval_model(X_st, y, 3000, alpha)"
      ],
      "execution_count": 55,
      "outputs": [
        {
          "output_type": "stream",
          "name": "stdout",
          "text": [
            "300 [-57.59945273  -6.0838207  -15.38014682  47.81120021] 0.07904989896443981\n",
            "600 [-62.79161593  -6.43888843 -16.97780213  51.72711074] 0.07263927640417525\n",
            "900 [-65.14362793  -5.91609976 -18.16490873  52.35085478] 0.06945920539064297\n",
            "1200 [-66.94708123  -6.03387704 -18.70899601  53.71366294] 0.06765212820981195\n",
            "1500 [-68.68942557  -6.15080688 -19.23169057  55.03600988] 0.06596129910694601\n",
            "1800 [-70.3801781   -6.26282276 -19.73998195  56.3163663 ] 0.06437132535501192\n",
            "2100 [-72.02413057  -6.37049774 -20.23512179  57.55886797] 0.06286997154323497\n",
            "2400 [-73.62524575  -6.47433549 -20.71812011  58.766988  ] 0.06144730689617424\n",
            "2700 [-75.18685615  -6.57475619 -21.18982927  59.94363873] 0.06009516135437114\n",
            "3000 [-76.71179501  -6.67211135 -21.65097857  61.09128407] 0.058806728427079215\n"
          ]
        }
      ]
    },
    {
      "cell_type": "code",
      "metadata": {
        "colab": {
          "base_uri": "https://localhost:8080/"
        },
        "id": "Al6lix02aBH1",
        "outputId": "05b71b15-31f6-43d2-c795-e9ee17d42265"
      },
      "source": [
        "alpha = 50\n",
        "W, w_list, errors = eval_model(X_st, y, 1000, alpha)"
      ],
      "execution_count": 56,
      "outputs": [
        {
          "output_type": "stream",
          "name": "stdout",
          "text": [
            "100 [-178.13248818  -94.62862631   17.67730169  234.10762062] 6.922501137441179\n",
            "200 [-298.95925808  -78.7586915   -61.26512012  252.24972248] 1.5932481680835433\n",
            "300 [-305.64874175  -39.75753713  -68.34008646  274.92635567] 0.006055131891046036\n",
            "400 [-306.31829132  -39.6828874   -69.57987794  274.25680607] 0.005558778386466649\n",
            "500 [-306.80891789  -39.81576876  -70.66466894  273.76617951] 0.00522222815563359\n",
            "600 [-307.22174796  -40.01725311  -71.66284383  273.35334943] 0.00494611083044943\n",
            "700 [-307.58859478  -40.24670675  -72.59806807  272.98650261] 0.0047064916066530075\n",
            "800 [-307.92384047  -40.48741589  -73.48247936  272.65125692] 0.004493276519686627\n",
            "900 [-308.23533315  -40.73131957  -74.3236743   272.33976424] 0.004300863592157091\n",
            "1000 [-308.52789676  -40.97418619  -75.12700074  272.04720063] 0.0041256137090789615\n"
          ]
        }
      ]
    },
    {
      "cell_type": "code",
      "metadata": {
        "colab": {
          "base_uri": "https://localhost:8080/"
        },
        "id": "3NwYgOfGaC1C",
        "outputId": "d0dd79cd-8c04-4b06-93d1-dd3d5907c9fb"
      },
      "source": [
        "alpha = 100\n",
        "W, w_list, errors = eval_model(X_st, y, 3000, alpha)"
      ],
      "execution_count": 57,
      "outputs": [
        {
          "output_type": "stream",
          "name": "stdout",
          "text": [
            "300 [-614.07504552  -85.0246012  -140.43658466  554.23587679] 0.00015412010709176769\n",
            "600 [-614.24043247  -84.9083089  -140.6751444   554.07048983] 0.0001498982833832429\n",
            "825 [-614.35202382  -84.84850849 -140.83847255  553.95889848] 0.00014743311145741953\n"
          ]
        }
      ]
    },
    {
      "cell_type": "markdown",
      "metadata": {
        "id": "J_vFO9bWDF5v"
      },
      "source": [
        "**Вывод:** Для модели логистической регрессии подобрать оптимальные параметры крайне сложно. Градиентный спуск, использующийся в этой модели может очень долго стремиться к минимуму, но не достигнуть его. Скорее всего это вызвано тем, что функция логарифма не может принимать минимального значения.\n",
        "\n"
      ]
    },
    {
      "cell_type": "markdown",
      "metadata": {
        "id": "6eUxmgmQdw8S"
      },
      "source": [
        "### Задание 3"
      ]
    },
    {
      "cell_type": "markdown",
      "metadata": {
        "id": "rNp-MWIqd1r7"
      },
      "source": [
        "Создайте функцию calc_pred_proba, возвращающую предсказанную вероятность класса 1 (на вход подаются W, который уже посчитан функцией eval_model и X, на выходе - массив y_pred_proba)."
      ]
    },
    {
      "cell_type": "code",
      "metadata": {
        "id": "SPXOBuOWFhfZ"
      },
      "source": [
        "# Функция для расчёта вероятности\n",
        "def calc_pred_proba(W, X):\n",
        "    return sigmoid(np.dot(W, X))"
      ],
      "execution_count": 58,
      "outputs": []
    },
    {
      "cell_type": "code",
      "metadata": {
        "colab": {
          "base_uri": "https://localhost:8080/"
        },
        "id": "SZ8ZBR-6i4fk",
        "outputId": "ee47560c-42c0-470f-e4de-db37a19202d9"
      },
      "source": [
        "# Проверка\n",
        "y_pred_pr = calc_pred_proba(W, X_st)\n",
        "y_pred_pr"
      ],
      "execution_count": 67,
      "outputs": [
        {
          "output_type": "execute_result",
          "data": {
            "text/plain": [
              "array([6.90283094e-04, 4.08442000e-29, 1.00000000e+00, 1.67968854e-16,\n",
              "       1.00000000e+00, 7.01843982e-05, 1.00000000e+00, 1.40373763e-43,\n",
              "       9.99286632e-01, 1.00000000e+00])"
            ]
          },
          "metadata": {},
          "execution_count": 67
        }
      ]
    },
    {
      "cell_type": "markdown",
      "metadata": {
        "id": "xTECPF2v2Wwl"
      },
      "source": [
        "### Задание 4\n",
        "\n"
      ]
    },
    {
      "cell_type": "markdown",
      "metadata": {
        "id": "zAj93KZa2tWd"
      },
      "source": [
        "Создайте функцию calc_pred, возвращающую предсказанный класс (на вход подаются W, который уже посчитан функцией eval_model и X, на выходе - массив y_pred).\n",
        "\n"
      ]
    },
    {
      "cell_type": "code",
      "metadata": {
        "id": "9694vD1R2nNC"
      },
      "source": [
        "# Функция для предсказанного класса\n",
        "def calc_pred(W, X):\n",
        "    y_pred_pr = calc_pred_proba(W, X)\n",
        "    y_pred = np.array(list(map(int, y_pred_pr >= 0.5)))\n",
        "    return y_pred"
      ],
      "execution_count": 81,
      "outputs": []
    },
    {
      "cell_type": "code",
      "metadata": {
        "colab": {
          "base_uri": "https://localhost:8080/"
        },
        "id": "yV2zZDNB3QkJ",
        "outputId": "85971609-9a96-4b68-9cf1-35632b2e51f7"
      },
      "source": [
        "# Проверка\n",
        "y_pred_4 = calc_pred(W1, X_st)\n",
        "y_pred_4"
      ],
      "execution_count": 82,
      "outputs": [
        {
          "output_type": "execute_result",
          "data": {
            "text/plain": [
              "array([0, 0, 1, 0, 1, 0, 1, 0, 1, 1])"
            ]
          },
          "metadata": {},
          "execution_count": 82
        }
      ]
    },
    {
      "cell_type": "markdown",
      "metadata": {
        "id": "zk9EjRce3sJT"
      },
      "source": [
        "### Задание 5"
      ]
    },
    {
      "cell_type": "markdown",
      "metadata": {
        "id": "k5pr3S065AjC"
      },
      "source": [
        "Посчитайте Accuracy, матрицу ошибок, точность и полноту, а также F1 score"
      ]
    },
    {
      "cell_type": "code",
      "metadata": {
        "id": "vPv_A60v5Cxz"
      },
      "source": [
        "# Функция для вычисления accuracy\n",
        "def accuracy(y, y_pred):\n",
        "    result = np.array(list(map(int, y_pred == y)))\n",
        "    return result.mean()"
      ],
      "execution_count": 83,
      "outputs": []
    },
    {
      "cell_type": "code",
      "metadata": {
        "id": "vVyPimEO5VBg"
      },
      "source": [
        "# Функция для расчёта матрицы ошибок\n",
        "def confusion_matrix(y, y_pred):\n",
        "    tp = np.array(list(map(int, (y_pred == 1) * (y == 1)))).sum()\n",
        "    tn = np.array(list(map(int, (y_pred == 0) * (y == 0)))).sum()\n",
        "    fp = np.array(list(map(int, (y_pred == 1) * (y == 0)))).sum()\n",
        "    fn = np.array(list(map(int, (y_pred == 0) * (y == 1)))).sum()\n",
        "    matrix = pd.DataFrame({'y=1': [tp, fn],\n",
        "                          'y=0': [fp, tn]}, \n",
        "                          index=['y_pred=1', 'y_pred=0'])\n",
        "    return matrix"
      ],
      "execution_count": 84,
      "outputs": []
    },
    {
      "cell_type": "code",
      "metadata": {
        "id": "nv2ImSz15o-E"
      },
      "source": [
        "# Функция для расчёта точности\n",
        "def precision(y, y_pred):\n",
        "    m = confusion_matrix(y, y_pred)\n",
        "    return m.loc['y_pred=1', 'y=1'] / m.loc['y_pred=1'].sum()"
      ],
      "execution_count": 75,
      "outputs": []
    },
    {
      "cell_type": "code",
      "metadata": {
        "id": "mM00fJ7S53k4"
      },
      "source": [
        "# Функция для расчёта полноты\n",
        "def recall(y, y_pred):\n",
        "    m = confusion_matrix(y, y_pred)\n",
        "    return m.loc['y_pred=1', 'y=1'] / m['y=1'].sum()"
      ],
      "execution_count": 76,
      "outputs": []
    },
    {
      "cell_type": "code",
      "metadata": {
        "id": "RfHNhCKp6J3i"
      },
      "source": [
        "# Функция для расчёта F1 score\n",
        "def f1_score(y, y_pred):\n",
        "    result = 2 * precision(y, y_pred) * recall(y, y_pred) / (precision(y, y_pred) + recall(y, y_pred))\n",
        "    return result"
      ],
      "execution_count": 78,
      "outputs": []
    },
    {
      "cell_type": "code",
      "metadata": {
        "colab": {
          "base_uri": "https://localhost:8080/"
        },
        "id": "BrQhgdeO6Zq3",
        "outputId": "79379f27-399c-4c20-fa8a-f2fcf82ab7c0"
      },
      "source": [
        "# accuracy\n",
        "accuracy(y, y_pred_4)"
      ],
      "execution_count": 92,
      "outputs": [
        {
          "output_type": "execute_result",
          "data": {
            "text/plain": [
              "1.0"
            ]
          },
          "metadata": {},
          "execution_count": 92
        }
      ]
    },
    {
      "cell_type": "code",
      "metadata": {
        "colab": {
          "base_uri": "https://localhost:8080/",
          "height": 111
        },
        "id": "EGKF3Vec6soh",
        "outputId": "1a535dac-b1b5-453c-cf0d-d69e0882e31f"
      },
      "source": [
        "# матрица ошибок\n",
        "confusion_matrix(y, y_pred_4)"
      ],
      "execution_count": 93,
      "outputs": [
        {
          "output_type": "execute_result",
          "data": {
            "text/html": [
              "<div>\n",
              "<style scoped>\n",
              "    .dataframe tbody tr th:only-of-type {\n",
              "        vertical-align: middle;\n",
              "    }\n",
              "\n",
              "    .dataframe tbody tr th {\n",
              "        vertical-align: top;\n",
              "    }\n",
              "\n",
              "    .dataframe thead th {\n",
              "        text-align: right;\n",
              "    }\n",
              "</style>\n",
              "<table border=\"1\" class=\"dataframe\">\n",
              "  <thead>\n",
              "    <tr style=\"text-align: right;\">\n",
              "      <th></th>\n",
              "      <th>y=1</th>\n",
              "      <th>y=0</th>\n",
              "    </tr>\n",
              "  </thead>\n",
              "  <tbody>\n",
              "    <tr>\n",
              "      <th>y_pred=1</th>\n",
              "      <td>5</td>\n",
              "      <td>0</td>\n",
              "    </tr>\n",
              "    <tr>\n",
              "      <th>y_pred=0</th>\n",
              "      <td>0</td>\n",
              "      <td>5</td>\n",
              "    </tr>\n",
              "  </tbody>\n",
              "</table>\n",
              "</div>"
            ],
            "text/plain": [
              "          y=1  y=0\n",
              "y_pred=1    5    0\n",
              "y_pred=0    0    5"
            ]
          },
          "metadata": {},
          "execution_count": 93
        }
      ]
    },
    {
      "cell_type": "code",
      "metadata": {
        "colab": {
          "base_uri": "https://localhost:8080/"
        },
        "id": "twzbNiBo7EZ9",
        "outputId": "3f0de745-d42e-4ccf-f74b-7f8ff61ac6c8"
      },
      "source": [
        "# полнота\n",
        "recall(y, y_pred_4)"
      ],
      "execution_count": 94,
      "outputs": [
        {
          "output_type": "execute_result",
          "data": {
            "text/plain": [
              "1.0"
            ]
          },
          "metadata": {},
          "execution_count": 94
        }
      ]
    },
    {
      "cell_type": "code",
      "metadata": {
        "colab": {
          "base_uri": "https://localhost:8080/"
        },
        "id": "oma0wlPd7v2o",
        "outputId": "8a2ad5e4-ccac-4eae-b4df-657b7bc695c3"
      },
      "source": [
        "# точность\n",
        "precision(y, y_pred_4)"
      ],
      "execution_count": 95,
      "outputs": [
        {
          "output_type": "execute_result",
          "data": {
            "text/plain": [
              "1.0"
            ]
          },
          "metadata": {},
          "execution_count": 95
        }
      ]
    },
    {
      "cell_type": "code",
      "metadata": {
        "colab": {
          "base_uri": "https://localhost:8080/"
        },
        "id": "Gp6XMVrd75U9",
        "outputId": "24cb3554-901e-4902-d99e-c4497abe192f"
      },
      "source": [
        "# F1 score\n",
        "f1_score(y, y_pred_4)"
      ],
      "execution_count": 96,
      "outputs": [
        {
          "output_type": "execute_result",
          "data": {
            "text/plain": [
              "1.0"
            ]
          },
          "metadata": {},
          "execution_count": 96
        }
      ]
    },
    {
      "cell_type": "markdown",
      "metadata": {
        "id": "zOeUfFVB8OF_"
      },
      "source": [
        "### Задание 6"
      ]
    },
    {
      "cell_type": "markdown",
      "metadata": {
        "id": "h60Pf1EO8QCC"
      },
      "source": [
        "Могла ли модель переобучиться? Почему?"
      ]
    },
    {
      "cell_type": "markdown",
      "metadata": {
        "id": "QPet89V78TOZ"
      },
      "source": [
        "Модель может переобучиться по следующим причинам: у функции logloss нету минимума (т.к. в неё входит логарифм), при увеличении весов происходит уменьшение ошибки."
      ]
    }
  ]
}